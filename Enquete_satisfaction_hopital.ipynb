{
  "nbformat": 4,
  "nbformat_minor": 0,
  "metadata": {
    "colab": {
      "provenance": [],
      "authorship_tag": "ABX9TyORpXBgxw5lD/Gun/CFB2AX",
      "include_colab_link": true
    },
    "kernelspec": {
      "name": "python3",
      "display_name": "Python 3"
    },
    "language_info": {
      "name": "python"
    }
  },
  "cells": [
    {
      "cell_type": "markdown",
      "metadata": {
        "id": "view-in-github",
        "colab_type": "text"
      },
      "source": [
        "<a href=\"https://colab.research.google.com/github/AbrahamDacosta/D-L/blob/main/Enquete_satisfaction_hopital.ipynb\" target=\"_parent\"><img src=\"https://colab.research.google.com/assets/colab-badge.svg\" alt=\"Open In Colab\"/></a>"
      ]
    },
    {
      "cell_type": "markdown",
      "source": [],
      "metadata": {
        "id": "7_8K0bavKe4_"
      }
    },
    {
      "cell_type": "markdown",
      "source": [
        "# Importation et Préparation des Données\n",
        "    1.Importer le jeu de données\n",
        "    2.Nettoyage des données:\n",
        "    3.Traiter les valeurs manquantes\n",
        "    4.Identifier et traiter les valeurs extrêmes ou aberrantes\n",
        "    5.Analyse des données:\n",
        "    6.Calculer les statistiques descriptives\n",
        "    7.Réaliser des tests statistiques pour répondre aux questions **texte en gras**\n",
        "\n",
        "\n",
        "\n",
        "\n",
        "\n",
        "\n",
        "\n"
      ],
      "metadata": {
        "id": "RA465uBuKhLp"
      }
    },
    {
      "cell_type": "markdown",
      "source": [
        "# Étape 1: Importer le jeu de données et conversion en excel"
      ],
      "metadata": {
        "id": "5juSeRicLSE-"
      }
    },
    {
      "cell_type": "code",
      "execution_count": 7,
      "metadata": {
        "colab": {
          "base_uri": "https://localhost:8080/"
        },
        "id": "Uxnz4P1hJyLk",
        "outputId": "357ff6d8-1742-49bf-bf66-5d8b1ba88a3f"
      },
      "outputs": [
        {
          "output_type": "stream",
          "name": "stdout",
          "text": [
            "Le fichier CSV a été converti en fichier Excel et sauvegardé sous sample_data/satisfaction_hopital.xlsx\n"
          ]
        }
      ],
      "source": [
        "import pandas as pd\n",
        "\n",
        "# Charger le fichier CSV\n",
        "file_path_csv = 'sample_data/satisfaction_hopital.csv'\n",
        "data = pd.read_csv(file_path_csv)\n",
        "\n",
        "# Sauvegarder le DataFrame en fichier Excel\n",
        "file_path_excel = 'sample_data/satisfaction_hopital.xlsx'\n",
        "data.to_excel(file_path_excel, index=False)\n",
        "print(f\"Le fichier CSV a été converti en fichier Excel et sauvegardé sous {file_path_excel}\")\n"
      ]
    },
    {
      "cell_type": "markdown",
      "source": [
        "# Étape 2: Nettoyage des données"
      ],
      "metadata": {
        "id": "bwUfgd8iL1xx"
      }
    },
    {
      "cell_type": "code",
      "source": [
        "import pandas as pd\n",
        "\n",
        "# Charger le fichier CSV avec le bon délimiteur\n",
        "file_path_csv = 'sample_data/satisfaction_hopital.csv'\n",
        "data = pd.read_csv(file_path_csv, delimiter=';')\n",
        "\n",
        "# Nettoyer les noms de colonnes en supprimant les espaces et en les mettant en minuscules\n",
        "data.columns = data.columns.str.strip().str.lower()\n",
        "print(data.columns)\n",
        "\n",
        "# Vérifier les valeurs manquantes\n",
        "print(data.isnull().sum())\n",
        "\n",
        "# Option 1: Supprimer les lignes avec des valeurs manquantes\n",
        "data = data.dropna()\n",
        "\n",
        "# Option 2: Remplacer les valeurs manquantes par une valeur par défaut (médiane, moyenne, etc.)\n",
        "# data = data.fillna(data.median())\n"
      ],
      "metadata": {
        "colab": {
          "base_uri": "https://localhost:8080/"
        },
        "id": "4Z39qKgqL8FO",
        "outputId": "c4f6d2f5-40a1-4c24-f5dd-243eb4a3a1c7"
      },
      "execution_count": 13,
      "outputs": [
        {
          "output_type": "stream",
          "name": "stdout",
          "text": [
            "Index(['service', 'sexe', 'age', 'profession', 'amelioration.sante',\n",
            "       'amelioration.moral', 'recommander', 'score.relation',\n",
            "       'score.information'],\n",
            "      dtype='object')\n",
            "service                 0\n",
            "sexe                    0\n",
            "age                     6\n",
            "profession            107\n",
            "amelioration.sante    158\n",
            "amelioration.moral    151\n",
            "recommander           129\n",
            "score.relation        185\n",
            "score.information     176\n",
            "dtype: int64\n"
          ]
        }
      ]
    },
    {
      "cell_type": "markdown",
      "source": [
        "# Vérifier les valeurs des colonnes sexe, score.relation et score.information"
      ],
      "metadata": {
        "id": "0OH121BLQ2oj"
      }
    },
    {
      "cell_type": "code",
      "source": [
        "# Afficher les valeurs uniques des colonnes d'intérêt\n",
        "print(data['sexe'].unique())\n",
        "print(data['score.relation'].unique())\n",
        "print(data['score.information'].unique())\n"
      ],
      "metadata": {
        "colab": {
          "base_uri": "https://localhost:8080/"
        },
        "id": "kqnIPeW-Q5S3",
        "outputId": "6b1b53c3-302c-4d30-cd10-c0cc0c6bd6d1"
      },
      "execution_count": 14,
      "outputs": [
        {
          "output_type": "stream",
          "name": "stdout",
          "text": [
            "[0 1]\n",
            "[36. 33. 40. 32. 39. 31. 37. 34. 28. 22. 35. 38. 24. 30. 26. 27. 25. 23.\n",
            " 29. 21. 13.]\n",
            "[22. 36. 37. 35. 28. 30. 29. 25. 33. 34. 40. 38. 31. 39. 32. 18. 26. 16.\n",
            " 23. 20. 13. 24. 15. 19. 21. 17. 27.]\n"
          ]
        }
      ]
    },
    {
      "cell_type": "markdown",
      "source": [
        "# Étape 3: Analyses statistiques\n",
        "    1) Pourcentage de sujets recommandant le service par sexe"
      ],
      "metadata": {
        "id": "-HssfbDpMP-J"
      }
    },
    {
      "cell_type": "code",
      "source": [
        "import scipy.stats as stats\n",
        "\n",
        "# Calcul du pourcentage de recommandation par sexe\n",
        "recommendation_by_gender = pd.crosstab(data['sexe'], data['recommander'])\n",
        "print(recommendation_by_gender)\n",
        "\n",
        "# Test du Chi-2 pour voir si les différences sont significatives\n",
        "chi2, p, _, _ = stats.chi2_contingency(recommendation_by_gender)\n",
        "print(f\"Chi-2: {chi2}, p-value: {p}\")\n"
      ],
      "metadata": {
        "colab": {
          "base_uri": "https://localhost:8080/"
        },
        "id": "f6FZv1GQMTF_",
        "outputId": "d982032f-9897-492f-d1f0-10d55440d743"
      },
      "execution_count": 15,
      "outputs": [
        {
          "output_type": "stream",
          "name": "stdout",
          "text": [
            "recommander  0.0  1.0  2.0\n",
            "sexe                      \n",
            "0              8   44  107\n",
            "1              2   34   92\n",
            "Chi-2: 2.695723527733815, p-value: 0.25979517059118157\n"
          ]
        }
      ]
    },
    {
      "cell_type": "markdown",
      "source": [
        "Les hommes et les femmes donnent des réponses similaires lorsqu'on leur demande s'ils recommanderaient l'hôpital. Il n'y a pas de grande différence entre leurs réponses."
      ],
      "metadata": {
        "id": "4PF68pP8TMee"
      }
    },
    {
      "cell_type": "markdown",
      "source": [
        "    2) Moyenne du score de relation par sexe"
      ],
      "metadata": {
        "id": "E6I3mgJBP1zg"
      }
    },
    {
      "cell_type": "code",
      "source": [
        "# Calcul des moyennes\n",
        "mean_relation_men = data[data['sexe'] == 'homme']['score.relation'].mean()\n",
        "mean_relation_women = data[data['sexe'] == 'femme']['score.relation'].mean()\n",
        "print(f\"Moyenne des hommes: {mean_relation_men}, Moyenne des femmes: {mean_relation_women}\")\n",
        "\n",
        "# Test t de Student pour comparer les moyennes\n",
        "t_stat, p_val = stats.ttest_ind(data[data['sexe'] == 'homme']['score.relation'],\n",
        "                                data[data['sexe'] == 'femme']['score.relation'])\n",
        "print(f\"T-stat: {t_stat}, p-value: {p_val}\")\n"
      ],
      "metadata": {
        "colab": {
          "base_uri": "https://localhost:8080/"
        },
        "id": "Hs8bIsctP61w",
        "outputId": "b115f046-c22c-48db-ae39-23d912e8d22d"
      },
      "execution_count": 16,
      "outputs": [
        {
          "output_type": "stream",
          "name": "stdout",
          "text": [
            "Moyenne des hommes: nan, Moyenne des femmes: nan\n",
            "T-stat: nan, p-value: nan\n"
          ]
        }
      ]
    },
    {
      "cell_type": "markdown",
      "source": [
        "    3) Corrélation entre le score de relation et l'âge"
      ],
      "metadata": {
        "id": "KCAweR69SPii"
      }
    },
    {
      "cell_type": "code",
      "source": [
        "# Calcul de la corrélation\n",
        "correlation, p_val = stats.pearsonr(data['score.relation'], data['age'])\n",
        "print(f\"Correlation: {correlation}, p-value: {p_val}\")\n"
      ],
      "metadata": {
        "colab": {
          "base_uri": "https://localhost:8080/"
        },
        "id": "C_W7Go8gSRXM",
        "outputId": "61f0733b-8ced-428c-ddf5-5e210ebb5c12"
      },
      "execution_count": 17,
      "outputs": [
        {
          "output_type": "stream",
          "name": "stdout",
          "text": [
            "Correlation: 0.09069351140384743, p-value: 0.1253002749977842\n"
          ]
        }
      ]
    },
    {
      "cell_type": "markdown",
      "source": [
        "la relation entre le personnet et les patients ne sont pas liees a l'age"
      ],
      "metadata": {
        "id": "DydYrGNkTEN2"
      }
    }
  ]
}